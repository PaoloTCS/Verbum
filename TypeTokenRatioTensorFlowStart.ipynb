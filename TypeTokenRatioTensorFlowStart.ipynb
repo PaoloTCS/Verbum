{
  "nbformat": 4,
  "nbformat_minor": 0,
  "metadata": {
    "colab": {
      "name": "TypeTokenRatioTensorFlowStart.ipynb",
      "provenance": [],
      "collapsed_sections": [],
      "toc_visible": true,
      "authorship_tag": "ABX9TyNfsvEabn+utVZZ8Zkuz8gZ",
      "include_colab_link": true
    },
    "kernelspec": {
      "name": "python3",
      "display_name": "Python 3"
    }
  },
  "cells": [
    {
      "cell_type": "markdown",
      "metadata": {
        "id": "view-in-github",
        "colab_type": "text"
      },
      "source": [
        "<a href=\"https://colab.research.google.com/github/PaoloTCS/Verbum/blob/main/TypeTokenRatioTensorFlowStart.ipynb\" target=\"_parent\"><img src=\"https://colab.research.google.com/assets/colab-badge.svg\" alt=\"Open In Colab\"/></a>"
      ]
    },
    {
      "cell_type": "code",
      "metadata": {
        "id": "T3rpznsWb8Jg"
      },
      "source": [
        "import nltk\n",
        "import numpy as np\n",
        "import gensim\n",
        "import re"
      ],
      "execution_count": 1,
      "outputs": []
    },
    {
      "cell_type": "markdown",
      "source": [
        "# New Section"
      ],
      "metadata": {
        "id": "X8ITPtfAswol"
      }
    },
    {
      "cell_type": "code",
      "metadata": {
        "colab": {
          "base_uri": "https://localhost:8080/"
        },
        "id": "SieLhSDzVMLh",
        "outputId": "ddd702d1-c303-4830-82ed-36896392e37a"
      },
      "source": [
        "from google.colab import drive\n",
        "drive.mount('/content/drive')"
      ],
      "execution_count": 2,
      "outputs": [
        {
          "output_type": "stream",
          "name": "stdout",
          "text": [
            "Mounted at /content/drive\n"
          ]
        }
      ]
    },
    {
      "cell_type": "code",
      "metadata": {
        "colab": {
          "base_uri": "https://localhost:8080/"
        },
        "id": "ohfmZZgRcH7z",
        "outputId": "59b9e0bc-3664-4a80-beb0-2b0d6cd7c27e"
      },
      "source": [
        "nltk.download('punkt')"
      ],
      "execution_count": 3,
      "outputs": [
        {
          "output_type": "stream",
          "name": "stdout",
          "text": [
            "[nltk_data] Downloading package punkt to /root/nltk_data...\n",
            "[nltk_data]   Unzipping tokenizers/punkt.zip.\n"
          ]
        },
        {
          "output_type": "execute_result",
          "data": {
            "text/plain": [
              "True"
            ]
          },
          "metadata": {},
          "execution_count": 3
        }
      ]
    },
    {
      "cell_type": "code",
      "metadata": {
        "id": "kZJdD-tBcRta"
      },
      "source": [
        "%matplotlib notebook\n",
        "import matplotlib.pyplot as plt\n",
        "plt.style.use('ggplot')\n",
        "\n",
        "from sklearn.decomposition import PCA\n",
        "\n",
        "from gensim.test.utils import datapath, get_tmpfile\n",
        "from gensim.models import KeyedVectors\n",
        "from gensim.scripts.glove2word2vec import glove2word2vec"
      ],
      "execution_count": 4,
      "outputs": []
    },
    {
      "cell_type": "code",
      "metadata": {
        "colab": {
          "base_uri": "https://localhost:8080/"
        },
        "id": "sldmZTCYimfD",
        "outputId": "a7613fba-c3f3-43ec-d3f9-f1f7b529448d"
      },
      "source": [
        "from nltk.tokenize import word_tokenize\n",
        "nltk.download('averaged_perceptron_tagger')"
      ],
      "execution_count": 5,
      "outputs": [
        {
          "output_type": "stream",
          "name": "stdout",
          "text": [
            "[nltk_data] Downloading package averaged_perceptron_tagger to\n",
            "[nltk_data]     /root/nltk_data...\n",
            "[nltk_data]   Unzipping taggers/averaged_perceptron_tagger.zip.\n"
          ]
        },
        {
          "output_type": "execute_result",
          "data": {
            "text/plain": [
              "True"
            ]
          },
          "metadata": {},
          "execution_count": 5
        }
      ]
    },
    {
      "cell_type": "code",
      "metadata": {
        "id": "qEscDTPVAV7D"
      },
      "source": [
        "from nltk import FreqDist\n"
      ],
      "execution_count": 6,
      "outputs": []
    },
    {
      "cell_type": "code",
      "metadata": {
        "id": "cftBn9CEJX07"
      },
      "source": [
        "from nltk import bigrams\n",
        "from nltk.collocations import BigramCollocationFinder \n",
        "from nltk.metrics import BigramAssocMeasures"
      ],
      "execution_count": 7,
      "outputs": []
    },
    {
      "cell_type": "code",
      "metadata": {
        "id": "tP2gtpk6Uvjk"
      },
      "source": [
        "import os"
      ],
      "execution_count": 8,
      "outputs": []
    },
    {
      "cell_type": "code",
      "metadata": {
        "id": "E_D41cVmUEvs"
      },
      "source": [
        "output_dir = \"/content/drive/MyDrive/Data/OutputFiles/\"\n"
      ],
      "execution_count": 9,
      "outputs": []
    },
    {
      "cell_type": "code",
      "metadata": {
        "colab": {
          "base_uri": "https://localhost:8080/"
        },
        "id": "3IaAWfkMURV6",
        "outputId": "979d6bd0-e468-41de-e39d-62fbd7bffe1e"
      },
      "source": [
        "subjFiles = []\n",
        "for root, dirs, files in os.walk(output_dir, topdown=False):\n",
        "  for name in sorted(files):\n",
        "    if name.startswith(\"S_R\"):\n",
        "      subjFiles.append(os.path.join(root, name))\n",
        "print(len(subjFiles))\n"
      ],
      "execution_count": 10,
      "outputs": [
        {
          "output_type": "stream",
          "name": "stdout",
          "text": [
            "153\n"
          ]
        }
      ]
    },
    {
      "cell_type": "code",
      "metadata": {
        "colab": {
          "base_uri": "https://localhost:8080/"
        },
        "id": "8il50GMS6PUF",
        "outputId": "62a709d1-c817-4528-89e7-cbb604aac65a"
      },
      "source": [
        "interviewerFiles = []\n",
        "for root, dirs, files in os.walk(output_dir, topdown=False):\n",
        "  for name in sorted(files):\n",
        "    if name.startswith(\"I_R\"):\n",
        "      interviewerFiles.append(os.path.join(root, name))\n",
        "print(len(interviewerFiles))"
      ],
      "execution_count": 11,
      "outputs": [
        {
          "output_type": "stream",
          "name": "stdout",
          "text": [
            "153\n"
          ]
        }
      ]
    },
    {
      "cell_type": "code",
      "metadata": {
        "id": "l1ZTLxx9VCe7"
      },
      "source": [
        "temp = []\n",
        "\n",
        "listOfFiles = []\n",
        "for subjFile in subjFiles:\n",
        "  full_route = subjFile.split(os.sep)\n",
        "  # get the filename just from S to end of number    \n",
        "  root_ext = (os.path.splitext(full_route[6]))[0][0:6]\n",
        "  filesize = os.path.getsize(subjFile)\n",
        "  if filesize > 0:\n",
        "    subjText = open(subjFile, \"r\")\n",
        "    subjText = subjText.read()\n",
        "    cleanSubjText = subjText.replace(\"*\", \"\")\n",
        "    cleanSubjText = re.sub(r\"S:\\d+\\s+?\", \"\", cleanSubjText)\n",
        "    tokenLen = len(cleanSubjText)\n",
        "    typeLen = len(set(cleanSubjText))\n",
        "    typeTokenRatio = typeLen/tokenLen\n",
        "    listOfFiles.append([root_ext, typeTokenRatio])\n",
        "    temp.append(subjFile)    \n",
        "    "
      ],
      "execution_count": 12,
      "outputs": []
    },
    {
      "cell_type": "code",
      "metadata": {
        "id": "dzxeUn1P6lnq"
      },
      "source": [
        "intervTemp = []\n",
        "\n",
        "filteredInterviewerFiles = []\n",
        "for interviewerFile in interviewerFiles:\n",
        "  full_route = interviewerFile.split(os.sep)\n",
        "  # get the filename just from S to end of number    \n",
        "  root_ext = (os.path.splitext(full_route[6]))[0][0:6]\n",
        "  filesize = os.path.getsize(interviewerFile)\n",
        "  if filesize > 0:\n",
        "    interviewerText = open(interviewerFile, \"r\")\n",
        "    interviewerText = interviewerText.read()\n",
        "    cleanInterviewerText = interviewerText.replace(\"*\", \"\")\n",
        "    cleanInterviewerText = re.sub(r\"I:\\d+\\s+?\", \"\", cleanInterviewerText)\n",
        "    tokenLen = len(cleanInterviewerText)\n",
        "    typeLen = len(set(cleanInterviewerText))\n",
        "    typeTokenRatio = typeLen/tokenLen\n",
        "    filteredInterviewerFiles.append([root_ext, typeTokenRatio])\n",
        "    intervTemp.append(interviewerFile)   "
      ],
      "execution_count": 13,
      "outputs": []
    },
    {
      "cell_type": "code",
      "metadata": {
        "id": "706Gk3sUnL9C"
      },
      "source": [
        "import pandas as pd"
      ],
      "execution_count": 14,
      "outputs": []
    },
    {
      "cell_type": "code",
      "metadata": {
        "id": "hd4boMoPnOco"
      },
      "source": [
        "df = pd.DataFrame(listOfFiles, columns = ['Filename', 'Type Token Ratio'])\n",
        "\n",
        "\n"
      ],
      "execution_count": 15,
      "outputs": []
    },
    {
      "cell_type": "code",
      "metadata": {
        "id": "-7osWtMvqFFi",
        "colab": {
          "base_uri": "https://localhost:8080/"
        },
        "outputId": "4e777432-b851-44de-bb32-92321f3c4bbf"
      },
      "source": [
        "print(len(subjFiles))\n",
        "print(len(listOfFiles))\n",
        "print(len(temp))\n",
        "\n",
        "set(subjFiles).symmetric_difference(temp)\n"
      ],
      "execution_count": 16,
      "outputs": [
        {
          "output_type": "stream",
          "name": "stdout",
          "text": [
            "153\n",
            "149\n",
            "149\n"
          ]
        },
        {
          "output_type": "execute_result",
          "data": {
            "text/plain": [
              "{'/content/drive/MyDrive/Data/OutputFiles/S_R001.txt',\n",
              " '/content/drive/MyDrive/Data/OutputFiles/S_R001_Only_S.txt',\n",
              " '/content/drive/MyDrive/Data/OutputFiles/S_R144.txt',\n",
              " '/content/drive/MyDrive/Data/OutputFiles/S_R145.txt'}"
            ]
          },
          "metadata": {},
          "execution_count": 16
        }
      ]
    },
    {
      "cell_type": "code",
      "metadata": {
        "id": "woORjz0b7urk",
        "colab": {
          "base_uri": "https://localhost:8080/"
        },
        "outputId": "61aac231-ce8f-460b-d715-f1b270b2e40b"
      },
      "source": [
        "print(len(interviewerFiles))\n",
        "print(len(filteredInterviewerFiles))\n",
        "print(len(intervTemp))\n",
        "\n",
        "set(interviewerFiles).symmetric_difference(intervTemp)"
      ],
      "execution_count": 17,
      "outputs": [
        {
          "output_type": "stream",
          "name": "stdout",
          "text": [
            "153\n",
            "144\n",
            "144\n"
          ]
        },
        {
          "output_type": "execute_result",
          "data": {
            "text/plain": [
              "{'/content/drive/MyDrive/Data/OutputFiles/I_R001.txt',\n",
              " '/content/drive/MyDrive/Data/OutputFiles/I_R001_Only_S.txt',\n",
              " '/content/drive/MyDrive/Data/OutputFiles/I_R144.txt',\n",
              " '/content/drive/MyDrive/Data/OutputFiles/I_R145.txt',\n",
              " '/content/drive/MyDrive/Data/OutputFiles/I_R146.txt',\n",
              " '/content/drive/MyDrive/Data/OutputFiles/I_R147.txt',\n",
              " '/content/drive/MyDrive/Data/OutputFiles/I_R148.txt',\n",
              " '/content/drive/MyDrive/Data/OutputFiles/I_R149.txt',\n",
              " '/content/drive/MyDrive/Data/OutputFiles/I_R150.txt'}"
            ]
          },
          "metadata": {},
          "execution_count": 17
        }
      ]
    },
    {
      "cell_type": "code",
      "metadata": {
        "id": "KjS-zwXeE4GD"
      },
      "source": [
        "# missing elements:\n",
        "# {'/content/drive/MyDrive/Data/OutputFiles/S_R001.txt',\n",
        "#  '/content/drive/MyDrive/Data/OutputFiles/S_R001_Only_S.txt',\n",
        "#  '/content/drive/MyDrive/Data/OutputFiles/S_R144.txt',\n",
        "#  '/content/drive/MyDrive/Data/OutputFiles/S_R145.txt'}"
      ],
      "execution_count": 18,
      "outputs": []
    },
    {
      "cell_type": "code",
      "metadata": {
        "id": "hbjGyPMz9QqP"
      },
      "source": [
        "# missing:\n",
        "# {'/content/drive/MyDrive/Data/OutputFiles/I_R001.txt',\n",
        "#  '/content/drive/MyDrive/Data/OutputFiles/I_R001_Only_S.txt',\n",
        "#  '/content/drive/MyDrive/Data/OutputFiles/I_R144.txt',\n",
        "#  '/content/drive/MyDrive/Data/OutputFiles/I_R145.txt',\n",
        "#  '/content/drive/MyDrive/Data/OutputFiles/I_R146.txt',\n",
        "#  '/content/drive/MyDrive/Data/OutputFiles/I_R147.txt',\n",
        "#  '/content/drive/MyDrive/Data/OutputFiles/I_R148.txt',\n",
        "#  '/content/drive/MyDrive/Data/OutputFiles/I_R149.txt',\n",
        "#  '/content/drive/MyDrive/Data/OutputFiles/I_R150.txt'}"
      ],
      "execution_count": 19,
      "outputs": []
    },
    {
      "cell_type": "code",
      "metadata": {
        "id": "DWYVx07f9aFB"
      },
      "source": [
        "interviewer_df = pd.DataFrame(filteredInterviewerFiles, columns = ['Interviewer', 'Interviewer Type Token Ratio'])\n"
      ],
      "execution_count": 20,
      "outputs": []
    },
    {
      "cell_type": "code",
      "metadata": {
        "colab": {
          "base_uri": "https://localhost:8080/"
        },
        "id": "V0r7XGKG9ing",
        "outputId": "7d5d5d0f-049e-4061-d09f-94977a2e65f8"
      },
      "source": [
        "interviewer_df.info(verbose=True)"
      ],
      "execution_count": 21,
      "outputs": [
        {
          "output_type": "stream",
          "name": "stdout",
          "text": [
            "<class 'pandas.core.frame.DataFrame'>\n",
            "RangeIndex: 144 entries, 0 to 143\n",
            "Data columns (total 2 columns):\n",
            " #   Column                        Non-Null Count  Dtype  \n",
            "---  ------                        --------------  -----  \n",
            " 0   Interviewer                   144 non-null    object \n",
            " 1   Interviewer Type Token Ratio  144 non-null    float64\n",
            "dtypes: float64(1), object(1)\n",
            "memory usage: 2.4+ KB\n"
          ]
        }
      ]
    },
    {
      "cell_type": "code",
      "metadata": {
        "colab": {
          "base_uri": "https://localhost:8080/"
        },
        "id": "urDD_ZfXnyJX",
        "outputId": "ec7155b9-20f4-47a5-a21c-50104f21c649"
      },
      "source": [
        "print(df.head(15))\n"
      ],
      "execution_count": 22,
      "outputs": [
        {
          "output_type": "stream",
          "name": "stdout",
          "text": [
            "   Filename  Type Token Ratio\n",
            "0    S_R001          0.008924\n",
            "1    S_R002          0.024403\n",
            "2    S_R003          0.014694\n",
            "3    S_R003          0.014694\n",
            "4    S_R004          0.015278\n",
            "5    S_R005          0.022033\n",
            "6    S_R006          0.037512\n",
            "7    S_R007          0.021176\n",
            "8    S_R008          0.007646\n",
            "9    S_R009          0.013771\n",
            "10   S_R010          0.015358\n",
            "11   S_R011          0.010478\n",
            "12   S_R012          0.005410\n",
            "13   S_R013          0.008016\n",
            "14   S_R014          0.030032\n"
          ]
        }
      ]
    },
    {
      "cell_type": "code",
      "metadata": {
        "colab": {
          "base_uri": "https://localhost:8080/"
        },
        "id": "2njhB7QS_sc_",
        "outputId": "d33ae722-f978-458d-ad76-1f9551727029"
      },
      "source": [
        "print(interviewer_df.head(15))"
      ],
      "execution_count": 23,
      "outputs": [
        {
          "output_type": "stream",
          "name": "stdout",
          "text": [
            "   Interviewer  Interviewer Type Token Ratio\n",
            "0       I_R001                      0.015286\n",
            "1       I_R002                      0.020598\n",
            "2       I_R003                      0.009270\n",
            "3       I_R003                      0.009278\n",
            "4       I_R004                      0.008327\n",
            "5       I_R005                      0.016363\n",
            "6       I_R006                      0.027027\n",
            "7       I_R007                      0.012071\n",
            "8       I_R008                      0.014596\n",
            "9       I_R009                      0.024355\n",
            "10      I_R010                      0.023166\n",
            "11      I_R011                      0.014991\n",
            "12      I_R012                      0.013723\n",
            "13      I_R013                      0.013084\n",
            "14      I_R014                      0.024975\n"
          ]
        }
      ]
    },
    {
      "cell_type": "code",
      "metadata": {
        "id": "QIVr6Go4-b3T",
        "colab": {
          "base_uri": "https://localhost:8080/",
          "height": 424
        },
        "outputId": "e950cca2-591c-460e-f64b-c0ea4cfae307"
      },
      "source": [
        "df.sort_values(by=['Filename'])\n",
        "# 144+ are non-standard"
      ],
      "execution_count": 24,
      "outputs": [
        {
          "output_type": "execute_result",
          "data": {
            "text/plain": [
              "    Filename  Type Token Ratio\n",
              "0     S_R001          0.008924\n",
              "1     S_R002          0.024403\n",
              "2     S_R003          0.014694\n",
              "3     S_R003          0.014694\n",
              "4     S_R004          0.015278\n",
              "..       ...               ...\n",
              "144   S_R146          0.500000\n",
              "145   S_R147          0.250000\n",
              "146   S_R148          0.250000\n",
              "147   S_R149          0.500000\n",
              "148   S_R150          0.166667\n",
              "\n",
              "[149 rows x 2 columns]"
            ],
            "text/html": [
              "\n",
              "  <div id=\"df-d4975501-f7dd-4739-96ae-9ab4e7fff72a\">\n",
              "    <div class=\"colab-df-container\">\n",
              "      <div>\n",
              "<style scoped>\n",
              "    .dataframe tbody tr th:only-of-type {\n",
              "        vertical-align: middle;\n",
              "    }\n",
              "\n",
              "    .dataframe tbody tr th {\n",
              "        vertical-align: top;\n",
              "    }\n",
              "\n",
              "    .dataframe thead th {\n",
              "        text-align: right;\n",
              "    }\n",
              "</style>\n",
              "<table border=\"1\" class=\"dataframe\">\n",
              "  <thead>\n",
              "    <tr style=\"text-align: right;\">\n",
              "      <th></th>\n",
              "      <th>Filename</th>\n",
              "      <th>Type Token Ratio</th>\n",
              "    </tr>\n",
              "  </thead>\n",
              "  <tbody>\n",
              "    <tr>\n",
              "      <th>0</th>\n",
              "      <td>S_R001</td>\n",
              "      <td>0.008924</td>\n",
              "    </tr>\n",
              "    <tr>\n",
              "      <th>1</th>\n",
              "      <td>S_R002</td>\n",
              "      <td>0.024403</td>\n",
              "    </tr>\n",
              "    <tr>\n",
              "      <th>2</th>\n",
              "      <td>S_R003</td>\n",
              "      <td>0.014694</td>\n",
              "    </tr>\n",
              "    <tr>\n",
              "      <th>3</th>\n",
              "      <td>S_R003</td>\n",
              "      <td>0.014694</td>\n",
              "    </tr>\n",
              "    <tr>\n",
              "      <th>4</th>\n",
              "      <td>S_R004</td>\n",
              "      <td>0.015278</td>\n",
              "    </tr>\n",
              "    <tr>\n",
              "      <th>...</th>\n",
              "      <td>...</td>\n",
              "      <td>...</td>\n",
              "    </tr>\n",
              "    <tr>\n",
              "      <th>144</th>\n",
              "      <td>S_R146</td>\n",
              "      <td>0.500000</td>\n",
              "    </tr>\n",
              "    <tr>\n",
              "      <th>145</th>\n",
              "      <td>S_R147</td>\n",
              "      <td>0.250000</td>\n",
              "    </tr>\n",
              "    <tr>\n",
              "      <th>146</th>\n",
              "      <td>S_R148</td>\n",
              "      <td>0.250000</td>\n",
              "    </tr>\n",
              "    <tr>\n",
              "      <th>147</th>\n",
              "      <td>S_R149</td>\n",
              "      <td>0.500000</td>\n",
              "    </tr>\n",
              "    <tr>\n",
              "      <th>148</th>\n",
              "      <td>S_R150</td>\n",
              "      <td>0.166667</td>\n",
              "    </tr>\n",
              "  </tbody>\n",
              "</table>\n",
              "<p>149 rows × 2 columns</p>\n",
              "</div>\n",
              "      <button class=\"colab-df-convert\" onclick=\"convertToInteractive('df-d4975501-f7dd-4739-96ae-9ab4e7fff72a')\"\n",
              "              title=\"Convert this dataframe to an interactive table.\"\n",
              "              style=\"display:none;\">\n",
              "        \n",
              "  <svg xmlns=\"http://www.w3.org/2000/svg\" height=\"24px\"viewBox=\"0 0 24 24\"\n",
              "       width=\"24px\">\n",
              "    <path d=\"M0 0h24v24H0V0z\" fill=\"none\"/>\n",
              "    <path d=\"M18.56 5.44l.94 2.06.94-2.06 2.06-.94-2.06-.94-.94-2.06-.94 2.06-2.06.94zm-11 1L8.5 8.5l.94-2.06 2.06-.94-2.06-.94L8.5 2.5l-.94 2.06-2.06.94zm10 10l.94 2.06.94-2.06 2.06-.94-2.06-.94-.94-2.06-.94 2.06-2.06.94z\"/><path d=\"M17.41 7.96l-1.37-1.37c-.4-.4-.92-.59-1.43-.59-.52 0-1.04.2-1.43.59L10.3 9.45l-7.72 7.72c-.78.78-.78 2.05 0 2.83L4 21.41c.39.39.9.59 1.41.59.51 0 1.02-.2 1.41-.59l7.78-7.78 2.81-2.81c.8-.78.8-2.07 0-2.86zM5.41 20L4 18.59l7.72-7.72 1.47 1.35L5.41 20z\"/>\n",
              "  </svg>\n",
              "      </button>\n",
              "      \n",
              "  <style>\n",
              "    .colab-df-container {\n",
              "      display:flex;\n",
              "      flex-wrap:wrap;\n",
              "      gap: 12px;\n",
              "    }\n",
              "\n",
              "    .colab-df-convert {\n",
              "      background-color: #E8F0FE;\n",
              "      border: none;\n",
              "      border-radius: 50%;\n",
              "      cursor: pointer;\n",
              "      display: none;\n",
              "      fill: #1967D2;\n",
              "      height: 32px;\n",
              "      padding: 0 0 0 0;\n",
              "      width: 32px;\n",
              "    }\n",
              "\n",
              "    .colab-df-convert:hover {\n",
              "      background-color: #E2EBFA;\n",
              "      box-shadow: 0px 1px 2px rgba(60, 64, 67, 0.3), 0px 1px 3px 1px rgba(60, 64, 67, 0.15);\n",
              "      fill: #174EA6;\n",
              "    }\n",
              "\n",
              "    [theme=dark] .colab-df-convert {\n",
              "      background-color: #3B4455;\n",
              "      fill: #D2E3FC;\n",
              "    }\n",
              "\n",
              "    [theme=dark] .colab-df-convert:hover {\n",
              "      background-color: #434B5C;\n",
              "      box-shadow: 0px 1px 3px 1px rgba(0, 0, 0, 0.15);\n",
              "      filter: drop-shadow(0px 1px 2px rgba(0, 0, 0, 0.3));\n",
              "      fill: #FFFFFF;\n",
              "    }\n",
              "  </style>\n",
              "\n",
              "      <script>\n",
              "        const buttonEl =\n",
              "          document.querySelector('#df-d4975501-f7dd-4739-96ae-9ab4e7fff72a button.colab-df-convert');\n",
              "        buttonEl.style.display =\n",
              "          google.colab.kernel.accessAllowed ? 'block' : 'none';\n",
              "\n",
              "        async function convertToInteractive(key) {\n",
              "          const element = document.querySelector('#df-d4975501-f7dd-4739-96ae-9ab4e7fff72a');\n",
              "          const dataTable =\n",
              "            await google.colab.kernel.invokeFunction('convertToInteractive',\n",
              "                                                     [key], {});\n",
              "          if (!dataTable) return;\n",
              "\n",
              "          const docLinkHtml = 'Like what you see? Visit the ' +\n",
              "            '<a target=\"_blank\" href=https://colab.research.google.com/notebooks/data_table.ipynb>data table notebook</a>'\n",
              "            + ' to learn more about interactive tables.';\n",
              "          element.innerHTML = '';\n",
              "          dataTable['output_type'] = 'display_data';\n",
              "          await google.colab.output.renderOutput(dataTable, element);\n",
              "          const docLink = document.createElement('div');\n",
              "          docLink.innerHTML = docLinkHtml;\n",
              "          element.appendChild(docLink);\n",
              "        }\n",
              "      </script>\n",
              "    </div>\n",
              "  </div>\n",
              "  "
            ]
          },
          "metadata": {},
          "execution_count": 24
        }
      ]
    },
    {
      "cell_type": "code",
      "metadata": {
        "colab": {
          "base_uri": "https://localhost:8080/"
        },
        "id": "UXxdlO9UAaTs",
        "outputId": "8ed5052b-021a-4e79-d3f2-0618a6e54d03"
      },
      "source": [
        "df.info(verbose=True)"
      ],
      "execution_count": 25,
      "outputs": [
        {
          "output_type": "stream",
          "name": "stdout",
          "text": [
            "<class 'pandas.core.frame.DataFrame'>\n",
            "RangeIndex: 149 entries, 0 to 148\n",
            "Data columns (total 2 columns):\n",
            " #   Column            Non-Null Count  Dtype  \n",
            "---  ------            --------------  -----  \n",
            " 0   Filename          149 non-null    object \n",
            " 1   Type Token Ratio  149 non-null    float64\n",
            "dtypes: float64(1), object(1)\n",
            "memory usage: 2.5+ KB\n"
          ]
        }
      ]
    },
    {
      "cell_type": "code",
      "metadata": {
        "id": "Ji_IxvyriETh"
      },
      "source": [
        "key_df = pd.read_excel('/content/drive/MyDrive/Data/RAND_Truth_Key.xlsx')"
      ],
      "execution_count": 26,
      "outputs": []
    },
    {
      "cell_type": "code",
      "metadata": {
        "colab": {
          "base_uri": "https://localhost:8080/"
        },
        "id": "OQYbgv36j2yr",
        "outputId": "b619f059-3ab2-41d5-8f56-f1e53e88fd11"
      },
      "source": [
        "print(key_df)"
      ],
      "execution_count": 27,
      "outputs": [
        {
          "output_type": "stream",
          "name": "stdout",
          "text": [
            "    Participant (Research #)  IS Status 2       IS Status 2.1  Conversion\n",
            "0                        R01          2.0  Partially Truthful           3\n",
            "1                        R02          3.0           Deception           3\n",
            "2                        R03          1.0    Totally Truthful           1\n",
            "3                        R04          2.0  Partially Truthful           3\n",
            "4                        R05          1.0    Totally Truthful           1\n",
            "..                       ...          ...                 ...         ...\n",
            "106                     R107          3.0           Deceptive           3\n",
            "107                     R108          1.0    Totally Truthful           1\n",
            "108                     R109          1.0    Totally Truthful           1\n",
            "109                     R110          2.0  Partially Truthful           3\n",
            "110                     R111          3.0           Deceptive           3\n",
            "\n",
            "[111 rows x 4 columns]\n"
          ]
        }
      ]
    },
    {
      "cell_type": "code",
      "metadata": {
        "colab": {
          "base_uri": "https://localhost:8080/"
        },
        "id": "4Vwrwl57j6D9",
        "outputId": "83f8ba9d-9070-47c6-d119-eb5af43e037f"
      },
      "source": [
        "key_df.info(verbose=True)"
      ],
      "execution_count": 28,
      "outputs": [
        {
          "output_type": "stream",
          "name": "stdout",
          "text": [
            "<class 'pandas.core.frame.DataFrame'>\n",
            "RangeIndex: 111 entries, 0 to 110\n",
            "Data columns (total 4 columns):\n",
            " #   Column                    Non-Null Count  Dtype  \n",
            "---  ------                    --------------  -----  \n",
            " 0   Participant (Research #)  111 non-null    object \n",
            " 1   IS Status 2               111 non-null    float64\n",
            " 2   IS Status 2.1             111 non-null    object \n",
            " 3   Conversion                111 non-null    int64  \n",
            "dtypes: float64(1), int64(1), object(2)\n",
            "memory usage: 3.6+ KB\n"
          ]
        }
      ]
    },
    {
      "cell_type": "code",
      "metadata": {
        "colab": {
          "base_uri": "https://localhost:8080/"
        },
        "id": "pmvGehhxm06i",
        "outputId": "d71d1797-72a8-4a40-9b13-5f6a698df010"
      },
      "source": [
        "merged_df = df.merge(key_df, left_index=True, right_index=True)\n",
        "merged_df = merged_df.drop(columns=[\"Participant (Research #)\", \"IS Status 2\", \"IS Status 2.1\"])\n",
        "merged_df = merged_df.rename(columns={\"Conversion\": \"target\"})\n",
        "print(merged_df)"
      ],
      "execution_count": 29,
      "outputs": [
        {
          "output_type": "stream",
          "name": "stdout",
          "text": [
            "    Filename  Type Token Ratio  target\n",
            "0     S_R001          0.008924       3\n",
            "1     S_R002          0.024403       3\n",
            "2     S_R003          0.014694       1\n",
            "3     S_R003          0.014694       3\n",
            "4     S_R004          0.015278       1\n",
            "..       ...               ...     ...\n",
            "106   S_R106          0.034121       3\n",
            "107   S_R107          0.022087       1\n",
            "108   S_R108          0.006439       1\n",
            "109   S_R109          0.008664       3\n",
            "110   S_R110          0.023798       3\n",
            "\n",
            "[111 rows x 3 columns]\n"
          ]
        }
      ]
    },
    {
      "cell_type": "code",
      "metadata": {
        "colab": {
          "base_uri": "https://localhost:8080/"
        },
        "id": "rs30si_QpbZm",
        "outputId": "ccedbf9f-8600-40da-d099-b90e6aeff48a"
      },
      "source": [
        "merged_df.info(verbose=True)"
      ],
      "execution_count": 30,
      "outputs": [
        {
          "output_type": "stream",
          "name": "stdout",
          "text": [
            "<class 'pandas.core.frame.DataFrame'>\n",
            "Int64Index: 111 entries, 0 to 110\n",
            "Data columns (total 3 columns):\n",
            " #   Column            Non-Null Count  Dtype  \n",
            "---  ------            --------------  -----  \n",
            " 0   Filename          111 non-null    object \n",
            " 1   Type Token Ratio  111 non-null    float64\n",
            " 2   target            111 non-null    int64  \n",
            "dtypes: float64(1), int64(1), object(1)\n",
            "memory usage: 3.5+ KB\n"
          ]
        }
      ]
    },
    {
      "cell_type": "code",
      "metadata": {
        "id": "R7vvkMIHpWHC"
      },
      "source": [
        "import tensorflow as tf\n"
      ],
      "execution_count": 31,
      "outputs": []
    },
    {
      "cell_type": "code",
      "metadata": {
        "id": "cYda3HzmpoFO"
      },
      "source": [
        "merged_df['Filename'] = pd.Categorical(merged_df['Filename'])\n",
        "merged_df['Filename'] = merged_df.Filename.cat.codes\n",
        "\n",
        "merged_df['target'] = pd.Categorical(merged_df['target'])\n",
        "merged_df['target'] = merged_df.target.cat.codes\n"
      ],
      "execution_count": 32,
      "outputs": []
    },
    {
      "cell_type": "code",
      "metadata": {
        "colab": {
          "base_uri": "https://localhost:8080/"
        },
        "id": "l9hSjZYzqs6E",
        "outputId": "77683e60-282a-450c-b949-ac94c1b19a30"
      },
      "source": [
        "merged_df.info(verbose=True)\n",
        "print(merged_df)\n",
        "# typetoken is a feature column and Conversion/target (truthful/not) is the target column"
      ],
      "execution_count": 33,
      "outputs": [
        {
          "output_type": "stream",
          "name": "stdout",
          "text": [
            "<class 'pandas.core.frame.DataFrame'>\n",
            "Int64Index: 111 entries, 0 to 110\n",
            "Data columns (total 3 columns):\n",
            " #   Column            Non-Null Count  Dtype  \n",
            "---  ------            --------------  -----  \n",
            " 0   Filename          111 non-null    int8   \n",
            " 1   Type Token Ratio  111 non-null    float64\n",
            " 2   target            111 non-null    int8   \n",
            "dtypes: float64(1), int8(2)\n",
            "memory usage: 2.0 KB\n",
            "     Filename  Type Token Ratio  target\n",
            "0           0          0.008924       1\n",
            "1           1          0.024403       1\n",
            "2           2          0.014694       0\n",
            "3           2          0.014694       1\n",
            "4           3          0.015278       0\n",
            "..        ...               ...     ...\n",
            "106       105          0.034121       1\n",
            "107       106          0.022087       0\n",
            "108       107          0.006439       0\n",
            "109       108          0.008664       1\n",
            "110       109          0.023798       1\n",
            "\n",
            "[111 rows x 3 columns]\n"
          ]
        }
      ]
    },
    {
      "cell_type": "code",
      "metadata": {
        "id": "aUdhcUVe_YtR"
      },
      "source": [
        "target = merged_df.pop('target')\n",
        " "
      ],
      "execution_count": 34,
      "outputs": []
    },
    {
      "cell_type": "code",
      "metadata": {
        "colab": {
          "base_uri": "https://localhost:8080/"
        },
        "id": "UzcQL-8e_fHW",
        "outputId": "e66ac9c9-c477-406d-d6dd-c409df57d8ff"
      },
      "source": [
        "dataset = tf.data.Dataset.from_tensor_slices((merged_df.values, target.values))\n",
        "for feat, targ in dataset.take(1):\n",
        "  print ('Features: {}, Target: {}'.format(feat, targ))"
      ],
      "execution_count": 35,
      "outputs": [
        {
          "output_type": "stream",
          "name": "stdout",
          "text": [
            "Features: [0.         0.00892414], Target: 1\n"
          ]
        }
      ]
    },
    {
      "cell_type": "code",
      "metadata": {
        "id": "3Kv8qnyuLj4h"
      },
      "source": [
        "train_dataset = dataset.shuffle(len(merged_df)).batch(1)\n"
      ],
      "execution_count": 36,
      "outputs": []
    },
    {
      "cell_type": "code",
      "metadata": {
        "id": "6hUU95LaLtmO"
      },
      "source": [
        "# def get_compiled_model():\n",
        "#   model = tf.keras.Sequential([\n",
        "#     tf.keras.layers.Dense(10, activation='relu'),\n",
        "#     tf.keras.layers.Dense(10, activation='relu'),\n",
        "#     tf.keras.layers.Dense(1, activation='linear')\n",
        "#   ])\n",
        "\n",
        "#   model.compile(optimizer='adam',\n",
        "#                 loss='mean_squared_error',\n",
        "#                 metrics=['accuracy'])\n",
        "#   return model\n",
        "\n",
        "def get_compiled_model():\n",
        "  model = tf.keras.Sequential([\n",
        "    tf.keras.layers.Dense(10, activation='relu'),\n",
        "    tf.keras.layers.Dense(10, activation='relu'),\n",
        "    tf.keras.layers.Dense(1, activation='softmax')\n",
        "  ])\n",
        "\n",
        "  model.compile(optimizer='adam',\n",
        "                loss='categorical_crossentropy',\n",
        "                metrics=['accuracy'])\n",
        "  return model\n",
        "\n"
      ],
      "execution_count": 37,
      "outputs": []
    },
    {
      "cell_type": "code",
      "metadata": {
        "id": "fdJSe6AwLwNH"
      },
      "source": [
        "model = get_compiled_model()\n"
      ],
      "execution_count": 38,
      "outputs": []
    },
    {
      "cell_type": "code",
      "metadata": {
        "colab": {
          "base_uri": "https://localhost:8080/"
        },
        "id": "L-ObHvkZLzJY",
        "outputId": "a21139ea-3195-472a-ac6f-2fe971552a72"
      },
      "source": [
        "model.fit(train_dataset, epochs=15)\n",
        "# could probably use another feature column\n"
      ],
      "execution_count": 39,
      "outputs": [
        {
          "output_type": "stream",
          "name": "stdout",
          "text": [
            "Epoch 1/15\n",
            "111/111 [==============================] - 1s 2ms/step - loss: 0.0000e+00 - accuracy: 0.4775\n",
            "Epoch 2/15\n",
            "111/111 [==============================] - 0s 1ms/step - loss: 0.0000e+00 - accuracy: 0.4775\n",
            "Epoch 3/15\n",
            "111/111 [==============================] - 0s 2ms/step - loss: 0.0000e+00 - accuracy: 0.4775\n",
            "Epoch 4/15\n",
            "111/111 [==============================] - 0s 1ms/step - loss: 0.0000e+00 - accuracy: 0.4775\n",
            "Epoch 5/15\n",
            "111/111 [==============================] - 0s 1ms/step - loss: 0.0000e+00 - accuracy: 0.4775\n",
            "Epoch 6/15\n",
            "111/111 [==============================] - 0s 2ms/step - loss: 0.0000e+00 - accuracy: 0.4775\n",
            "Epoch 7/15\n",
            "111/111 [==============================] - 0s 1ms/step - loss: 0.0000e+00 - accuracy: 0.4775\n",
            "Epoch 8/15\n",
            "111/111 [==============================] - 0s 2ms/step - loss: 0.0000e+00 - accuracy: 0.4775\n",
            "Epoch 9/15\n",
            "111/111 [==============================] - 0s 2ms/step - loss: 0.0000e+00 - accuracy: 0.4775\n",
            "Epoch 10/15\n",
            "111/111 [==============================] - 0s 1ms/step - loss: 0.0000e+00 - accuracy: 0.4775\n",
            "Epoch 11/15\n",
            "111/111 [==============================] - 0s 1ms/step - loss: 0.0000e+00 - accuracy: 0.4775\n",
            "Epoch 12/15\n",
            "111/111 [==============================] - 0s 1ms/step - loss: 0.0000e+00 - accuracy: 0.4775\n",
            "Epoch 13/15\n",
            "111/111 [==============================] - 0s 1ms/step - loss: 0.0000e+00 - accuracy: 0.4775\n",
            "Epoch 14/15\n",
            "111/111 [==============================] - 0s 1ms/step - loss: 0.0000e+00 - accuracy: 0.4775\n",
            "Epoch 15/15\n",
            "111/111 [==============================] - 0s 1ms/step - loss: 0.0000e+00 - accuracy: 0.4775\n"
          ]
        },
        {
          "output_type": "execute_result",
          "data": {
            "text/plain": [
              "<keras.callbacks.History at 0x7ff35ac49790>"
            ]
          },
          "metadata": {},
          "execution_count": 39
        }
      ]
    },
    {
      "cell_type": "markdown",
      "source": [
        "# May 12, 2022"
      ],
      "metadata": {
        "id": "LLjcqPA8tVy3"
      }
    },
    {
      "cell_type": "code",
      "source": [
        ""
      ],
      "metadata": {
        "id": "UdSR-Wq5taby"
      },
      "execution_count": null,
      "outputs": []
    }
  ]
}